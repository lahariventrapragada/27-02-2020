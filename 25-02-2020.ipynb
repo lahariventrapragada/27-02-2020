{
 "cells": [
  {
   "cell_type": "markdown",
   "metadata": {},
   "source": [
    "you have been given 3 integers - l, r and k. Find how many numbers between l and r (both inclusive) are divisible by k. You do not need to print these numbers, you just have to find their count.\n",
    "\n",
    "Input Format The first and only line of input contains 3 space separated integers l, r and k.\n",
    "\n",
    "Output Format Print the required answer on a single line.\n",
    "\n",
    "Constraints\n",
    "\n",
    "SAMPLE INPUT 1 10 1 SAMPLE OUTPUT 10"
   ]
  },
  {
   "cell_type": "code",
   "execution_count": 12,
   "metadata": {},
   "outputs": [
    {
     "name": "stdout",
     "output_type": "stream",
     "text": [
      "1 10 5\n",
      "2\n"
     ]
    }
   ],
   "source": [
    "l,r,k=map(int,input().split())\n",
    "count=0\n",
    "for i in range(l,r+1):\n",
    "    if(i%k==0):\n",
    "        count=count+1\n",
    "print(count)\n"
   ]
  },
  {
   "cell_type": "code",
   "execution_count": 1,
   "metadata": {},
   "outputs": [],
   "source": [
    "u=\"adiTYA\""
   ]
  },
  {
   "cell_type": "code",
   "execution_count": 2,
   "metadata": {},
   "outputs": [
    {
     "data": {
      "text/plain": [
       "'ADItya'"
      ]
     },
     "execution_count": 2,
     "metadata": {},
     "output_type": "execute_result"
    }
   ],
   "source": [
    "u.swapcase()"
   ]
  },
  {
   "cell_type": "markdown",
   "metadata": {},
   "source": [
    "2. you have been given a String S consisting of uppercase and lowercase English alphabets. You need to change the case of each alphabet in this String. That is, all the uppercase letters should be converted to lowercase and all the lowercase letters should be converted to uppercase. You need to then print the resultant String to output.\n",
    "    - Input Format The first and only line of input contains the String S\n",
    "    - Output Format Print the resultant String on a single line.\n",
    "    - Constraints where S denotes the length of string S.\n",
    "    - SAMPLE INPUT abcdE SAMPLE OUTPUT ABCDe"
   ]
  },
  {
   "cell_type": "code",
   "execution_count": 10,
   "metadata": {},
   "outputs": [
    {
     "name": "stdout",
     "output_type": "stream",
     "text": [
      "enter a string adITYa\n"
     ]
    },
    {
     "data": {
      "text/plain": [
       "'ADityA'"
      ]
     },
     "execution_count": 10,
     "metadata": {},
     "output_type": "execute_result"
    }
   ],
   "source": [
    "S=input(\"enter a string \")\n",
    "S.swapcase()"
   ]
  },
  {
   "cell_type": "markdown",
   "metadata": {},
   "source": [
    "3. Rahul is a very busy persion he dont wan't to waste his time . He keeps account of duration of each and every work. Now he don't even get time to calculate duration of works, So your job is to count the durations for each work and give it to rahul.\n",
    "     - Input: First line will be given by N number of works Next N line will be given SH,SM,EH and EM each separated by space(SH=starting hr, SM=starting min, EH=ending hr, EM=ending min) Output:\n",
    "     - N lines with duration HH MM(hours and minutes separated by space) SAMPLE INPUT 2 1 44 2 14 2 42 8 23 SAMPLE OUTPUT 0 30 5 41"
   ]
  },
  {
   "cell_type": "code",
   "execution_count": null,
   "metadata": {},
   "outputs": [],
   "source": [
    "a=int(input(\"enter the no of tasks\"))\n",
    "sh=[]\n",
    "sm=[]\n",
    "eh=[]\n",
    "em=[]\n",
    "for i in range(0,a):\n",
    "    b=int(input(\"enter starting hour \"))\n",
    "    c=int(input(\"enter starting min \"))\n",
    "    d=int(input(\"enter ending hour \"))\n",
    "    e=int(input(\"enter ending min \"))\n",
    "    sh.append(b)\n",
    "    sm.append(c)\n",
    "    eh.append(d)\n",
    "    em.append(e)\n",
    "for i in sh:\n",
    "    x=(eh[i-1]*60+em[i-1])-(sh[i-1]*60+sm[i-1])\n",
    "    if x>59:\n",
    "        print(int(x/60),\":\",x%60)\n",
    "    else:\n",
    "        print(\"0 : \",x)  "
   ]
  },
  {
   "cell_type": "code",
   "execution_count": null,
   "metadata": {},
   "outputs": [],
   "source": [
    "a=int(input(\"enter no ele in list\"))\n",
    "l=[]\n",
    "z=0\n",
    "for i in range(0,a):\n",
    "    f=int(input(\"\"))\n",
    "    l.append(f)\n",
    "print(l)\n",
    "b=int(input(\"enter no of queries\"))\n",
    "for i in range(0,b):\n",
    "    c=0\n",
    "    x,y=map(int,input().split())\n",
    "    z=l.index(x)\n",
    "    d=l.index(y)\n",
    "    print(int((sum(l[z:d+1]))/len(l[z:d+1])))"
   ]
  },
  {
   "cell_type": "code",
   "execution_count": null,
   "metadata": {},
   "outputs": [],
   "source": [
    "def timeduration(sh,sm,eh,em):\n",
    "    hd=(eh-sh)-1\n",
    "    m=em+60\n",
    "    m1=m=sm\n",
    "    if(m1>60):\n",
    "        md=m1-60\n",
    "        hd+=1\n",
    "    else:\n",
    "        md=m1\n",
    "    print(hd,\":\",md)"
   ]
  },
  {
   "cell_type": "code",
   "execution_count": null,
   "metadata": {},
   "outputs": [],
   "source": []
  }
 ],
 "metadata": {
  "kernelspec": {
   "display_name": "Python 3",
   "language": "python",
   "name": "python3"
  },
  "language_info": {
   "codemirror_mode": {
    "name": "ipython",
    "version": 3
   },
   "file_extension": ".py",
   "mimetype": "text/x-python",
   "name": "python",
   "nbconvert_exporter": "python",
   "pygments_lexer": "ipython3",
   "version": "3.7.4"
  }
 },
 "nbformat": 4,
 "nbformat_minor": 2
}
